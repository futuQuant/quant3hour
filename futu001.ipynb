{
 "cells": [
  {
   "cell_type": "code",
   "execution_count": null,
   "metadata": {},
   "outputs": [
    {
     "ename": "",
     "evalue": "",
     "output_type": "error",
     "traceback": [
      "\u001b[1;31mFailed to start the Kernel. \n",
      "\u001b[1;31mKernel base (Python 3.10.9) is not usable. Check the Jupyter output tab for more information. \n",
      "\u001b[1;31mView Jupyter <a href='command:jupyter.viewOutput'>log</a> for further details."
     ]
    }
   ],
   "source": [
    "from futu import *\n",
    "\n",
    "quote_ctx = OpenQuoteContext(host='127.0.0.1', port=11111)  # 创建行情对象\n",
    "print(quote_ctx.get_market_snapshot('HK.00700'))  # 获取港股 HK.00700 的快照数据\n",
    "quote_ctx.close() # 关闭对象，防止连接条数用尽\n",
    "\n",
    "\n",
    "trd_ctx = OpenSecTradeContext(host='127.0.0.1', port=11111)  # 创建交易对象\n",
    "print(trd_ctx.place_order(price=500.0, qty=100, code=\"HK.00700\", trd_side=TrdSide.BUY, trd_env=TrdEnv.SIMULATE))  # 模拟交易，下单（如果是真实环境交易，在此之前需要先解锁交易密码）\n",
    "\n",
    "trd_ctx.close()  # 关闭对象，防止连接条数用尽\n"
   ]
  }
 ],
 "metadata": {
  "kernelspec": {
   "display_name": "base",
   "language": "python",
   "name": "python3"
  },
  "language_info": {
   "name": "python",
   "version": "3.10.9"
  },
  "orig_nbformat": 4
 },
 "nbformat": 4,
 "nbformat_minor": 2
}
