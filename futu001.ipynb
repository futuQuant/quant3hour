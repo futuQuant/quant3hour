{
 "cells": [
  {
   "cell_type": "code",
   "execution_count": 1,
   "metadata": {},
   "outputs": [
    {
     "name": "stdout",
     "output_type": "stream",
     "text": [
      "\u001b[0;30m2023-08-27 17:24:44,410 | 97563 | [open_context_base.py] _send_init_connect_sync:311: InitConnect ok: conn_id=1, host=127.0.0.1, port=11111, user_id=5809206\u001b[0m\n",
      "(0,        code          update_time  last_price  open_price  high_price   \n",
      "0  HK.00700  2023-08-25 16:08:14       320.0       322.6       323.8  \\\n",
      "\n",
      "   low_price  prev_close_price    volume      turnover  turnover_rate  ...   \n",
      "0      320.0             325.2  12542511  4.032148e+09          0.131  ...  \\\n",
      "\n",
      "   pre_turnover pre_change_val  pre_change_rate  pre_amplitude  after_price   \n",
      "0           N/A            N/A              N/A            N/A          N/A  \\\n",
      "\n",
      "   after_high_price  after_low_price  after_change_val  after_change_rate   \n",
      "0               N/A              N/A               N/A                N/A  \\\n",
      "\n",
      "   after_amplitude  \n",
      "0              N/A  \n",
      "\n",
      "[1 rows x 133 columns])\n",
      "\u001b[0;30m2023-08-27 17:24:44,475 | 97563 | [open_context_base.py] on_disconnect:383: Disconnected: conn_id=1\u001b[0m\n",
      "\u001b[0;30m2023-08-27 17:24:44,477 | 97563 | [open_context_base.py] _send_init_connect_sync:311: InitConnect ok: conn_id=2, host=127.0.0.1, port=11111, user_id=5809206\u001b[0m\n",
      "(-1, '账户购买力不足')\n",
      "\u001b[0;30m2023-08-27 17:24:44,600 | 97563 | [open_context_base.py] on_disconnect:383: Disconnected: conn_id=2\u001b[0m\n"
     ]
    }
   ],
   "source": [
    "from futu import *\n",
    "\n",
    "quote_ctx = OpenQuoteContext(host='127.0.0.1', port=11111)  # 创建行情对象\n",
    "print(quote_ctx.get_market_snapshot('HK.00700'))  # 获取港股 HK.00700 的快照数据\n",
    "quote_ctx.close() # 关闭对象，防止连接条数用尽\n",
    "\n",
    "\n",
    "trd_ctx = OpenSecTradeContext(host='127.0.0.1', port=11111)  # 创建交易对象\n",
    "print(trd_ctx.place_order(price=500.0, qty=100, code=\"HK.00700\", trd_side=TrdSide.BUY, trd_env=TrdEnv.SIMULATE))  # 模拟交易，下单（如果是真实环境交易，在此之前需要先解锁交易密码）\n",
    "\n",
    "trd_ctx.close()  # 关闭对象，防止连接条数用尽\n"
   ]
  },
  {
   "cell_type": "code",
   "execution_count": 2,
   "metadata": {},
   "outputs": [
    {
     "name": "stdout",
     "output_type": "stream",
     "text": [
      "\u001b[0;30m2023-08-27 17:27:21,691 | 97563 | [open_context_base.py] _send_init_connect_sync:311: InitConnect ok: conn_id=3, host=127.0.0.1, port=11111, user_id=5809206\u001b[0m\n",
      "               acc_id   trd_env acc_type          card_num   security_firm   \n",
      "0  281756455988143158      REAL   MARGIN  1001100320067566  FUTUSECURITIES  \\\n",
      "1             2012228  SIMULATE     CASH               N/A             N/A   \n",
      "2             5243247  SIMULATE   MARGIN               N/A             N/A   \n",
      "\n",
      "  sim_acc_type trdmarket_auth  \n",
      "0          N/A           [HK]  \n",
      "1        STOCK           [HK]  \n",
      "2       OPTION           [HK]  \n",
      "281756455988143158\n",
      "[281756455988143158, 2012228, 5243247]\n",
      "\u001b[0;30m2023-08-27 17:27:21,707 | 97563 | [open_context_base.py] on_disconnect:383: Disconnected: conn_id=3\u001b[0m\n"
     ]
    }
   ],
   "source": [
    "from futu import *\n",
    "trd_ctx = OpenSecTradeContext(filter_trdmarket=TrdMarket.HK, host='127.0.0.1', port=11111, security_firm=SecurityFirm.FUTUSECURITIES)\n",
    "ret, data = trd_ctx.get_acc_list()\n",
    "if ret == RET_OK:\n",
    "    print(data)\n",
    "    print(data['acc_id'][0])  # 取第一个账号\n",
    "    print(data['acc_id'].values.tolist())  # 转为 list\n",
    "else:\n",
    "    print('get_acc_list error: ', data)\n",
    "trd_ctx.close()"
   ]
  },
  {
   "cell_type": "code",
   "execution_count": 3,
   "metadata": {},
   "outputs": [
    {
     "name": "stdout",
     "output_type": "stream",
     "text": [
      "\u001b[0;30m2023-08-27 17:28:19,511 | 97563 | [open_context_base.py] _send_init_connect_sync:311: InitConnect ok: conn_id=4, host=127.0.0.1, port=11111, user_id=5809206\u001b[0m\n",
      "         power  max_power_short  net_cash_power  total_assets     cash   \n",
      "0  60298.57382      50248.81152             0.0        624.74 -5775.26  \\\n",
      "\n",
      "   market_val  long_mv  short_mv  pending_asset  interest_charged_amount  ...   \n",
      "0      6400.0   6400.0       0.0            0.0                  5775.26  ...  \\\n",
      "\n",
      "   jp_cash  jp_avl_withdrawal_cash  sg_cash sg_avl_withdrawal_cash is_pdt   \n",
      "0      N/A                     N/A      N/A                    N/A    N/A  \\\n",
      "\n",
      "  pdt_seq beginning_dtbp remaining_dtbp dt_call_amount  dt_status  \n",
      "0     N/A            N/A            N/A            N/A        N/A  \n",
      "\n",
      "[1 rows x 38 columns]\n",
      "60298.57382\n",
      "[60298.57382]\n",
      "\u001b[0;30m2023-08-27 17:28:19,525 | 97563 | [open_context_base.py] on_disconnect:383: Disconnected: conn_id=4\u001b[0m\n"
     ]
    }
   ],
   "source": [
    "from futu import *\n",
    "trd_ctx = OpenSecTradeContext(filter_trdmarket=TrdMarket.HK, host='127.0.0.1', port=11111, security_firm=SecurityFirm.FUTUSECURITIES)\n",
    "ret, data = trd_ctx.accinfo_query()\n",
    "if ret == RET_OK:\n",
    "    print(data)\n",
    "    print(data['power'][0])  # 取第一行的购买力\n",
    "    print(data['power'].values.tolist())  # 转为 list\n",
    "else:\n",
    "    print('accinfo_query error: ', data)\n",
    "trd_ctx.close()  # 关闭当条连接"
   ]
  },
  {
   "cell_type": "code",
   "execution_count": 5,
   "metadata": {},
   "outputs": [
    {
     "name": "stdout",
     "output_type": "stream",
     "text": [
      "\u001b[0;30m2023-08-27 17:29:57,899 | 97563 | [open_context_base.py] _send_init_connect_sync:311: InitConnect ok: conn_id=6, host=127.0.0.1, port=11111, user_id=5809206\u001b[0m\n",
      "      code stock_name   qty  can_sell_qty  cost_price  cost_price_valid   \n",
      "0  US.VIPS        唯品会  50.0          50.0      16.000              True  \\\n",
      "1   US.TSM        台积电   1.0           1.0      92.610              True   \n",
      "2  US.TSLA        特斯拉   8.0           8.0     234.431              True   \n",
      "\n",
      "   market_val  nominal_price  pl_ratio  pl_ratio_valid  ...  today_buy_qty   \n",
      "0      786.00          15.72     -1.75            True  ...            0.0  \\\n",
      "1       93.10          93.10      0.53            True  ...            0.0   \n",
      "2     1908.72         238.59      1.77            True  ...            0.0   \n",
      "\n",
      "   today_buy_val  today_pl_val  today_trd_val  today_sell_qty  today_sell_val   \n",
      "0            0.0           0.0            0.0             0.0             0.0  \\\n",
      "1            0.0           0.0            0.0             0.0             0.0   \n",
      "2            0.0           0.0            0.0             0.0             0.0   \n",
      "\n",
      "   position_side  unrealized_pl realized_pl currency  \n",
      "0           LONG            N/A         N/A      USD  \n",
      "1           LONG            N/A         N/A      USD  \n",
      "2           LONG            N/A         N/A      USD  \n",
      "\n",
      "[3 rows x 22 columns]\n",
      "唯品会\n",
      "['唯品会', '台积电', '特斯拉']\n",
      "\u001b[0;30m2023-08-27 17:29:57,913 | 97563 | [open_context_base.py] on_disconnect:383: Disconnected: conn_id=6\u001b[0m\n"
     ]
    }
   ],
   "source": [
    "from futu import *\n",
    "trd_ctx = OpenSecTradeContext(filter_trdmarket=TrdMarket.US, host='127.0.0.1', port=11111, security_firm=SecurityFirm.FUTUSECURITIES)\n",
    "ret, data = trd_ctx.position_list_query()\n",
    "if ret == RET_OK:\n",
    "    print(data)\n",
    "    if data.shape[0] > 0:  # 如果持仓列表不为空\n",
    "        print(data['stock_name'][0])  # 获取持仓第一个股票名称\n",
    "        print(data['stock_name'].values.tolist())  # 转为 list\n",
    "else:\n",
    "    print('position_list_query error: ', data)\n",
    "trd_ctx.close()  # 关闭当条连接"
   ]
  }
 ],
 "metadata": {
  "kernelspec": {
   "display_name": "base",
   "language": "python",
   "name": "python3"
  },
  "language_info": {
   "codemirror_mode": {
    "name": "ipython",
    "version": 3
   },
   "file_extension": ".py",
   "mimetype": "text/x-python",
   "name": "python",
   "nbconvert_exporter": "python",
   "pygments_lexer": "ipython3",
   "version": "3.10.9"
  },
  "orig_nbformat": 4
 },
 "nbformat": 4,
 "nbformat_minor": 2
}
